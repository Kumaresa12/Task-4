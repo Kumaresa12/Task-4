{
  "cells": [
    {
      "cell_type": "markdown",
      "metadata": {
        "id": "uzo4rKXSBOHj"
      },
      "source": [
        "###### Assessment"
      ]
    },
    {
      "cell_type": "markdown",
      "metadata": {
        "id": "vvsk_yb1BOHn"
      },
      "source": [
        "###### I am going to provide two .csv files , you are supposed to work on them and have to provide solutions to the following problems"
      ]
    },
    {
      "cell_type": "markdown",
      "metadata": {
        "id": "R7rfnXB_BOHo"
      },
      "source": [
        "###### import necessary libraries"
      ]
    },
    {
      "cell_type": "code",
      "execution_count": null,
      "metadata": {
        "id": "VkW9ZiHKBOHo"
      },
      "outputs": [],
      "source": [
        "import pandas as pd\n",
        "import numpy as np"
      ]
    },
    {
      "cell_type": "code",
      "source": [
        "df1=pd.read_csv(\"college_1.csv\")\n",
        "df2=pd.read_csv(\"college_2.csv\")"
      ],
      "metadata": {
        "id": "FLlF9EpqoWHS"
      },
      "execution_count": null,
      "outputs": []
    },
    {
      "cell_type": "markdown",
      "metadata": {
        "id": "G91Fr2T1BOHp"
      },
      "source": [
        "###### merge those two csv files (after getting as dataframes, get them as a single dataframe)"
      ]
    },
    {
      "cell_type": "code",
      "execution_count": null,
      "metadata": {
        "id": "fxflj-IoBOHq"
      },
      "outputs": [],
      "source": [
        "df=df1.append(df2,ignore_index = True)"
      ]
    },
    {
      "cell_type": "markdown",
      "metadata": {
        "id": "sZXpzuOGBOHq"
      },
      "source": [
        "###### Take each csv file , split that csv file into multiple categories (example csv files are added in the repo) \n"
      ]
    },
    {
      "cell_type": "markdown",
      "metadata": {
        "id": "8ALbGY62BOHr"
      },
      "source": [
        "###### consider if the codekata score exceeds 15000 points(present week) then make a csv on those observations as Exceeded expectations.csv\n"
      ]
    },
    {
      "cell_type": "markdown",
      "metadata": {
        "id": "tBe6KlgeBOHs"
      },
      "source": [
        "###### if  10000<codekata score<15000   (Reached_expectations.csv)\n",
        "\n"
      ]
    },
    {
      "cell_type": "markdown",
      "metadata": {
        "id": "LQJBhfV-BOHs"
      },
      "source": [
        "###### if  7000<codekata score<10000   (Needs_Improvement.csv)\n"
      ]
    },
    {
      "cell_type": "markdown",
      "metadata": {
        "id": "u60e1fBuBOHt"
      },
      "source": [
        "###### if  codekate score < 7000        (Unsatisfactory.csv)"
      ]
    },
    {
      "cell_type": "code",
      "source": [
        " final_df=df.fillna(0)"
      ],
      "metadata": {
        "id": "UfRH5l2VonVg"
      },
      "execution_count": null,
      "outputs": []
    },
    {
      "cell_type": "code",
      "execution_count": null,
      "metadata": {
        "id": "TUzr1r7yBOHt"
      },
      "outputs": [],
      "source": [
        "exceed_expec=final_df[final_df[\"CodeKata Score\"]>15000]\n",
        "exceed_expec.to_csv('Exceeded_expectations.csv')"
      ]
    },
    {
      "cell_type": "code",
      "execution_count": null,
      "metadata": {
        "id": "N2_ZhkfjBOHu"
      },
      "outputs": [],
      "source": [
        "reached_expec=final_df[(final_df[\"CodeKata Score\"]>10000) & (final_df[\"CodeKata Score\"]<15000)]\n",
        "reached_expec.to_csv('Reached_expectations.csv')"
      ]
    },
    {
      "cell_type": "code",
      "source": [
        "needs_improve=final_df[(final_df[\"CodeKata Score\"]>7000) & (final_df[\"CodeKata Score\"]<10000)]\n",
        "needs_improve.to_csv('Needs_Improvement.csv')"
      ],
      "metadata": {
        "id": "o2qK-UY9D2Ll"
      },
      "execution_count": null,
      "outputs": []
    },
    {
      "cell_type": "code",
      "source": [
        "unsatisfac=final_df[final_df[\"CodeKata Score\"]<7000]\n",
        "unsatisfac.to_csv('Unsatisfactory.csv')"
      ],
      "metadata": {
        "id": "lIwOanAHD66s"
      },
      "execution_count": null,
      "outputs": []
    },
    {
      "cell_type": "markdown",
      "metadata": {
        "id": "Ho_fW34xBOHu"
      },
      "source": [
        "###### Average of previous week geekions vs this week geekions (i.e Previous Geekions vs CodeKata Score)"
      ]
    },
    {
      "cell_type": "code",
      "execution_count": null,
      "metadata": {
        "id": "UIaab8p4BOHu"
      },
      "outputs": [],
      "source": [
        "cols = ['Previous Geekions', 'CodeKata Score']\n",
        "\n",
        "final_df[cols].mean()"
      ]
    },
    {
      "cell_type": "markdown",
      "metadata": {
        "id": "2R1Cd0mfBOHv"
      },
      "source": [
        "###### No of students participated "
      ]
    },
    {
      "cell_type": "code",
      "execution_count": null,
      "metadata": {
        "id": "S74MWs5MBOHv"
      },
      "outputs": [],
      "source": [
        "x=final_df.shape[0]\n",
        "print(x)"
      ]
    },
    {
      "cell_type": "markdown",
      "metadata": {
        "id": "fupnRuU0BOHv"
      },
      "source": [
        "###### #Average completion of python course or my_sql or python english or computational thinking"
      ]
    },
    {
      "cell_type": "code",
      "execution_count": null,
      "metadata": {
        "id": "OhZB9ogNBOHw"
      },
      "outputs": [],
      "source": [
        "Average=final_df.loc[(final_df['python']==100)|(final_df['mysql']==100)|(final_df['python_en']==100)|(final_df['computational_thinking']==100)]\n",
        "t=(Average.shape[0]/final_df.shape[0])*100\n",
        "print(t)"
      ]
    },
    {
      "cell_type": "markdown",
      "metadata": {
        "id": "ctImwZAhBOHx"
      },
      "source": [
        "###### rising star of the week (top 3 candidate who performed well in that particular week)"
      ]
    },
    {
      "cell_type": "code",
      "execution_count": null,
      "metadata": {
        "id": "bNC-IUnFBOHx"
      },
      "outputs": [],
      "source": [
        "final_df['performance'] = final_df['CodeKata Score'] -final_df['Previous Geekions']\n",
        "weektop_performer=final_df.nlargest(3, ['performance'])\n",
        "for i in weektop_performer['Name']:\n",
        "  print(i)"
      ]
    },
    {
      "cell_type": "markdown",
      "metadata": {
        "id": "wL-4m4qJBOHx"
      },
      "source": [
        "###### Shining stars of the week (top 3 candidates who has highest geekions)"
      ]
    },
    {
      "cell_type": "code",
      "execution_count": null,
      "metadata": {
        "id": "ChqXdXyZBOHy"
      },
      "outputs": [],
      "source": [
        "overalltop_performer=final_df.nlargest(3, ['CodeKata Score'])\n",
        "for i in overalltop_performer['Name']:\n",
        "  print(i)"
      ]
    },
    {
      "cell_type": "markdown",
      "metadata": {
        "id": "NOGSROcpBOHy"
      },
      "source": [
        "###### Department wise codekata performence (pie chart)"
      ]
    },
    {
      "cell_type": "code",
      "execution_count": null,
      "metadata": {
        "id": "yXOFAXxdBOHy"
      },
      "outputs": [],
      "source": [
        "cs=final_df[final_df['Department']=='Computer Science and Engineering']\n",
        "ece=final_df[final_df['Department']=='Electronics and Communication Engineering']\n",
        "eee=final_df[final_df['Department']=='Electronics and Electrical Engineering']"
      ]
    },
    {
      "cell_type": "code",
      "source": [
        "import matplotlib.pyplot as plt\n",
        "import numpy as np\n",
        "\n",
        "y = np.array([5079.761904761905,2777.8205128205127,2777.8205128205127])\n",
        "mylabels = [\"CS\", \"ECE\", \"EEE\"]\n",
        "\n",
        "plt.pie(y, labels = mylabels, startangle = 90,autopct='%1.1f%%',radius=1.5)\n",
        "plt.title('Department wise codekata performence')\n",
        "plt.show() "
      ],
      "metadata": {
        "id": "R8u1sMAIHk5Y"
      },
      "execution_count": null,
      "outputs": []
    },
    {
      "cell_type": "markdown",
      "metadata": {
        "id": "C6qsb-HpBOHy"
      },
      "source": [
        "###### Department wise toppers (horizantal bar graph or any visual representations of your choice)"
      ]
    },
    {
      "cell_type": "code",
      "execution_count": null,
      "metadata": {
        "id": "uTMpm2jtBOHy"
      },
      "outputs": [],
      "source": [
        "cs_toppers=cs.nlargest(10, ['CodeKata Score'])\n",
        "\n",
        "plt.barh(cs_toppers['Name'],cs_toppers['CodeKata Score'])\n",
        "plt.title('Computer science Toppers')\n",
        "plt.xlabel('CodeKata Score')\n",
        "plt.ylabel('Name')\n",
        "plt.show()"
      ]
    },
    {
      "cell_type": "code",
      "execution_count": null,
      "metadata": {
        "id": "1j0iHfSbBOHz"
      },
      "outputs": [],
      "source": [
        "ece_toppers=ece.nlargest(10, ['CodeKata Score'])\n",
        "\n",
        "plt.barh(ece_toppers['Name'],ece_toppers['CodeKata Score'])\n",
        "plt.title('Electronics and Communication Engineering Toppers')\n",
        "plt.xlabel('CodeKata Score')\n",
        "plt.ylabel('Name')\n",
        "plt.show()"
      ]
    },
    {
      "cell_type": "code",
      "execution_count": null,
      "metadata": {
        "id": "dpBDQIW0BOHz"
      },
      "outputs": [],
      "source": [
        "eee_toppers=eee.nlargest(10, ['CodeKata Score'])\n",
        "\n",
        "plt.barh(eee_toppers['Name'],eee_toppers['CodeKata Score'])\n",
        "plt.title('Electronics and Electrical Engineering\t Toppers')\n",
        "plt.xlabel('CodeKata Score')\n",
        "plt.ylabel('Name')\n",
        "plt.show()"
      ]
    },
    {
      "cell_type": "code",
      "execution_count": null,
      "metadata": {
        "id": "dgeK_GQTBOHz"
      },
      "outputs": [],
      "source": []
    }
  ],
  "metadata": {
    "kernelspec": {
      "display_name": "Python 3",
      "language": "python",
      "name": "python3"
    },
    "language_info": {
      "codemirror_mode": {
        "name": "ipython",
        "version": 3
      },
      "file_extension": ".py",
      "mimetype": "text/x-python",
      "name": "python",
      "nbconvert_exporter": "python",
      "pygments_lexer": "ipython3",
      "version": "3.8.3"
    },
    "colab": {
      "provenance": [],
      "collapsed_sections": []
    }
  },
  "nbformat": 4,
  "nbformat_minor": 0
}